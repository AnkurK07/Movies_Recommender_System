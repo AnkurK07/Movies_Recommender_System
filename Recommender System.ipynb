{
 "cells": [
  {
   "cell_type": "markdown",
   "id": "162254f3",
   "metadata": {},
   "source": [
    "# Collaborative Filtering Movies Recommender System\n"
   ]
  },
  {
   "cell_type": "code",
   "execution_count": 1,
   "id": "48c43bdc",
   "metadata": {},
   "outputs": [],
   "source": [
    "# Working Library\n",
    "import numpy as np \n",
    "import pandas as pd\n",
    "import matplotlib.pyplot as plt\n",
    "import seaborn as sns\n",
    "import plotly.express as px"
   ]
  },
  {
   "cell_type": "code",
   "execution_count": 2,
   "id": "9b77bf7c",
   "metadata": {},
   "outputs": [],
   "source": [
    "# Working Data Sets \n",
    "df = pd.read_csv('Data.csv')"
   ]
  },
  {
   "cell_type": "code",
   "execution_count": 3,
   "id": "0e808feb",
   "metadata": {},
   "outputs": [],
   "source": [
    "X = df['Titles'].drop_duplicates()"
   ]
  },
  {
   "cell_type": "code",
   "execution_count": 5,
   "id": "c26adbd5",
   "metadata": {},
   "outputs": [],
   "source": [
    "X['Titles'] = df['Titles'].drop_duplicates()"
   ]
  },
  {
   "cell_type": "code",
   "execution_count": 6,
   "id": "5e5a574d",
   "metadata": {},
   "outputs": [],
   "source": [
    " Y = pd.DataFrame(X)"
   ]
  },
  {
   "cell_type": "code",
   "execution_count": 7,
   "id": "722e7699",
   "metadata": {},
   "outputs": [
    {
     "data": {
      "text/html": [
       "<div>\n",
       "<style scoped>\n",
       "    .dataframe tbody tr th:only-of-type {\n",
       "        vertical-align: middle;\n",
       "    }\n",
       "\n",
       "    .dataframe tbody tr th {\n",
       "        vertical-align: top;\n",
       "    }\n",
       "\n",
       "    .dataframe thead th {\n",
       "        text-align: right;\n",
       "    }\n",
       "</style>\n",
       "<table border=\"1\" class=\"dataframe\">\n",
       "  <thead>\n",
       "    <tr style=\"text-align: right;\">\n",
       "      <th></th>\n",
       "      <th>Titles</th>\n",
       "    </tr>\n",
       "  </thead>\n",
       "  <tbody>\n",
       "    <tr>\n",
       "      <th>0</th>\n",
       "      <td>Like Water for Chocolate (Como agua para choco...</td>\n",
       "    </tr>\n",
       "    <tr>\n",
       "      <th>1</th>\n",
       "      <td>Something Wild (1986)</td>\n",
       "    </tr>\n",
       "    <tr>\n",
       "      <th>2</th>\n",
       "      <td>Escape from the Planet of the Apes (1971)</td>\n",
       "    </tr>\n",
       "    <tr>\n",
       "      <th>3</th>\n",
       "      <td>Armour of God (Long xiong hu di) (1987)</td>\n",
       "    </tr>\n",
       "    <tr>\n",
       "      <th>4</th>\n",
       "      <td>Lion King, The (1994)</td>\n",
       "    </tr>\n",
       "    <tr>\n",
       "      <th>...</th>\n",
       "      <td>...</td>\n",
       "    </tr>\n",
       "    <tr>\n",
       "      <th>999679</th>\n",
       "      <td>Mars (1998)</td>\n",
       "    </tr>\n",
       "    <tr>\n",
       "      <th>999707</th>\n",
       "      <td>The Fort (2014)</td>\n",
       "    </tr>\n",
       "    <tr>\n",
       "      <th>999890</th>\n",
       "      <td>Genmu Senki Leda (1985)</td>\n",
       "    </tr>\n",
       "    <tr>\n",
       "      <th>999897</th>\n",
       "      <td>Vampire Lovers, The (1970)</td>\n",
       "    </tr>\n",
       "    <tr>\n",
       "      <th>Titles</th>\n",
       "      <td>0         Like Water for Chocolate (Como agua ...</td>\n",
       "    </tr>\n",
       "  </tbody>\n",
       "</table>\n",
       "<p>23342 rows × 1 columns</p>\n",
       "</div>"
      ],
      "text/plain": [
       "                                                   Titles\n",
       "0       Like Water for Chocolate (Como agua para choco...\n",
       "1                                   Something Wild (1986)\n",
       "2               Escape from the Planet of the Apes (1971)\n",
       "3                 Armour of God (Long xiong hu di) (1987)\n",
       "4                                   Lion King, The (1994)\n",
       "...                                                   ...\n",
       "999679                                        Mars (1998)\n",
       "999707                                    The Fort (2014)\n",
       "999890                            Genmu Senki Leda (1985)\n",
       "999897                         Vampire Lovers, The (1970)\n",
       "Titles  0         Like Water for Chocolate (Como agua ...\n",
       "\n",
       "[23342 rows x 1 columns]"
      ]
     },
     "execution_count": 7,
     "metadata": {},
     "output_type": "execute_result"
    }
   ],
   "source": [
    "Y"
   ]
  },
  {
   "cell_type": "code",
   "execution_count": 8,
   "id": "ba911139",
   "metadata": {},
   "outputs": [],
   "source": [
    "import requests\n",
    "import pandas as pd\n",
    "\n",
    "# Your TMDB API key\n",
    "api_key = '8265bd1679663a7ea12ac168da84d2e8'\n",
    "\n",
    "# Function to get movie ID from movie title\n",
    "def get_movie_id(title, api_key):\n",
    "    try:\n",
    "        url = f'https://api.themoviedb.org/3/search/movie?api_key={api_key}&query={title}'\n",
    "        response = requests.get(url)\n",
    "        response.raise_for_status()  # Raise an error for bad status codes\n",
    "        data = response.json()\n",
    "        results = data.get('results')\n",
    "        if results:\n",
    "            return results[0].get('id')\n",
    "        else:\n",
    "            return None\n",
    "    except requests.exceptions.RequestException as e:\n",
    "        print(f\"Error fetching data for {title}: {e}\")\n",
    "        return None\n",
    "\n"
   ]
  },
  {
   "cell_type": "code",
   "execution_count": 9,
   "id": "3650fe4e",
   "metadata": {},
   "outputs": [],
   "source": [
    "# Sample DataFrame with movie titles\n",
    "data = Y\n",
    "dx = pd.DataFrame(data)"
   ]
  },
  {
   "cell_type": "code",
   "execution_count": null,
   "id": "c97f8a12",
   "metadata": {
    "scrolled": true
   },
   "outputs": [
    {
     "name": "stdout",
     "output_type": "stream",
     "text": [
      "Error fetching data for Like Water for Chocolate (Como agua para chocolate) (1992): HTTPSConnectionPool(host='api.themoviedb.org', port=443): Max retries exceeded with url: /3/search/movie?api_key=8265bd1679663a7ea12ac168da84d2e8&query=Like%20Water%20for%20Chocolate%20(Como%20agua%20para%20chocolate)%20(1992) (Caused by NewConnectionError('<urllib3.connection.HTTPSConnection object at 0x0000018A5FAE5FD0>: Failed to establish a new connection: [WinError 10060] A connection attempt failed because the connected party did not properly respond after a period of time, or established connection failed because connected host has failed to respond'))\n",
      "Error fetching data for Something Wild (1986): HTTPSConnectionPool(host='api.themoviedb.org', port=443): Max retries exceeded with url: /3/search/movie?api_key=8265bd1679663a7ea12ac168da84d2e8&query=Something%20Wild%20(1986) (Caused by NewConnectionError('<urllib3.connection.HTTPSConnection object at 0x0000018A5FC27DC0>: Failed to establish a new connection: [WinError 10060] A connection attempt failed because the connected party did not properly respond after a period of time, or established connection failed because connected host has failed to respond'))\n",
      "Error fetching data for Escape from the Planet of the Apes (1971): HTTPSConnectionPool(host='api.themoviedb.org', port=443): Max retries exceeded with url: /3/search/movie?api_key=8265bd1679663a7ea12ac168da84d2e8&query=Escape%20from%20the%20Planet%20of%20the%20Apes%20(1971) (Caused by NewConnectionError('<urllib3.connection.HTTPSConnection object at 0x0000018A5FD19610>: Failed to establish a new connection: [WinError 10060] A connection attempt failed because the connected party did not properly respond after a period of time, or established connection failed because connected host has failed to respond'))\n",
      "Error fetching data for Armour of God (Long xiong hu di) (1987): HTTPSConnectionPool(host='api.themoviedb.org', port=443): Max retries exceeded with url: /3/search/movie?api_key=8265bd1679663a7ea12ac168da84d2e8&query=Armour%20of%20God%20(Long%20xiong%20hu%20di)%20(1987) (Caused by NewConnectionError('<urllib3.connection.HTTPSConnection object at 0x0000018A5FA24D60>: Failed to establish a new connection: [WinError 10060] A connection attempt failed because the connected party did not properly respond after a period of time, or established connection failed because connected host has failed to respond'))\n",
      "Error fetching data for Lion King, The (1994): HTTPSConnectionPool(host='api.themoviedb.org', port=443): Max retries exceeded with url: /3/search/movie?api_key=8265bd1679663a7ea12ac168da84d2e8&query=Lion%20King,%20The%20(1994) (Caused by NewConnectionError('<urllib3.connection.HTTPSConnection object at 0x0000018A5FD192B0>: Failed to establish a new connection: [WinError 10060] A connection attempt failed because the connected party did not properly respond after a period of time, or established connection failed because connected host has failed to respond'))\n",
      "Error fetching data for One Flew Over the Cuckoo's Nest (1975): HTTPSConnectionPool(host='api.themoviedb.org', port=443): Max retries exceeded with url: /3/search/movie?api_key=8265bd1679663a7ea12ac168da84d2e8&query=One%20Flew%20Over%20the%20Cuckoo's%20Nest%20(1975) (Caused by NewConnectionError('<urllib3.connection.HTTPSConnection object at 0x0000018A5FD19E80>: Failed to establish a new connection: [WinError 10060] A connection attempt failed because the connected party did not properly respond after a period of time, or established connection failed because connected host has failed to respond'))\n",
      "Error fetching data for Full Metal Jacket (1987): HTTPSConnectionPool(host='api.themoviedb.org', port=443): Max retries exceeded with url: /3/search/movie?api_key=8265bd1679663a7ea12ac168da84d2e8&query=Full%20Metal%20Jacket%20(1987) (Caused by NewConnectionError('<urllib3.connection.HTTPSConnection object at 0x0000018A5FD256A0>: Failed to establish a new connection: [WinError 10060] A connection attempt failed because the connected party did not properly respond after a period of time, or established connection failed because connected host has failed to respond'))\n",
      "Error fetching data for Catch Me If You Can (2002): HTTPSConnectionPool(host='api.themoviedb.org', port=443): Max retries exceeded with url: /3/search/movie?api_key=8265bd1679663a7ea12ac168da84d2e8&query=Catch%20Me%20If%20You%20Can%20(2002) (Caused by NewConnectionError('<urllib3.connection.HTTPSConnection object at 0x0000018A5FD25E50>: Failed to establish a new connection: [WinError 10060] A connection attempt failed because the connected party did not properly respond after a period of time, or established connection failed because connected host has failed to respond'))\n",
      "Error fetching data for Bambi (1942): HTTPSConnectionPool(host='api.themoviedb.org', port=443): Max retries exceeded with url: /3/search/movie?api_key=8265bd1679663a7ea12ac168da84d2e8&query=Bambi%20(1942) (Caused by NewConnectionError('<urllib3.connection.HTTPSConnection object at 0x0000018A5FD2C640>: Failed to establish a new connection: [WinError 10060] A connection attempt failed because the connected party did not properly respond after a period of time, or established connection failed because connected host has failed to respond'))\n",
      "Error fetching data for Juror, The (1996): HTTPSConnectionPool(host='api.themoviedb.org', port=443): Max retries exceeded with url: /3/search/movie?api_key=8265bd1679663a7ea12ac168da84d2e8&query=Juror,%20The%20(1996) (Caused by NewConnectionError('<urllib3.connection.HTTPSConnection object at 0x0000018A5FD252E0>: Failed to establish a new connection: [WinError 10060] A connection attempt failed because the connected party did not properly respond after a period of time, or established connection failed because connected host has failed to respond'))\n",
      "Error fetching data for Rushmore (1998): HTTPSConnectionPool(host='api.themoviedb.org', port=443): Max retries exceeded with url: /3/search/movie?api_key=8265bd1679663a7ea12ac168da84d2e8&query=Rushmore%20(1998) (Caused by NewConnectionError('<urllib3.connection.HTTPSConnection object at 0x0000018A5FD19A90>: Failed to establish a new connection: [WinError 10060] A connection attempt failed because the connected party did not properly respond after a period of time, or established connection failed because connected host has failed to respond'))\n",
      "Error fetching data for Return of Martin Guerre, The (Retour de Martin Guerre, Le) (1982): HTTPSConnectionPool(host='api.themoviedb.org', port=443): Max retries exceeded with url: /3/search/movie?api_key=8265bd1679663a7ea12ac168da84d2e8&query=Return%20of%20Martin%20Guerre,%20The%20(Retour%20de%20Martin%20Guerre,%20Le)%20(1982) (Caused by NewConnectionError('<urllib3.connection.HTTPSConnection object at 0x0000018A5FAE5550>: Failed to establish a new connection: [WinError 10060] A connection attempt failed because the connected party did not properly respond after a period of time, or established connection failed because connected host has failed to respond'))\n",
      "Error fetching data for Mary Reilly (1996): HTTPSConnectionPool(host='api.themoviedb.org', port=443): Max retries exceeded with url: /3/search/movie?api_key=8265bd1679663a7ea12ac168da84d2e8&query=Mary%20Reilly%20(1996) (Caused by NewConnectionError('<urllib3.connection.HTTPSConnection object at 0x0000018A496F3430>: Failed to establish a new connection: [WinError 10060] A connection attempt failed because the connected party did not properly respond after a period of time, or established connection failed because connected host has failed to respond'))\n",
      "Error fetching data for Licence to Kill (1989): HTTPSConnectionPool(host='api.themoviedb.org', port=443): Max retries exceeded with url: /3/search/movie?api_key=8265bd1679663a7ea12ac168da84d2e8&query=Licence%20to%20Kill%20(1989) (Caused by NewConnectionError('<urllib3.connection.HTTPSConnection object at 0x0000018A5FD2C340>: Failed to establish a new connection: [WinError 10060] A connection attempt failed because the connected party did not properly respond after a period of time, or established connection failed because connected host has failed to respond'))\n"
     ]
    },
    {
     "name": "stdout",
     "output_type": "stream",
     "text": [
      "Error fetching data for Minority Report (2002): HTTPSConnectionPool(host='api.themoviedb.org', port=443): Max retries exceeded with url: /3/search/movie?api_key=8265bd1679663a7ea12ac168da84d2e8&query=Minority%20Report%20(2002) (Caused by NewConnectionError('<urllib3.connection.HTTPSConnection object at 0x0000018A5FD2CE20>: Failed to establish a new connection: [WinError 10060] A connection attempt failed because the connected party did not properly respond after a period of time, or established connection failed because connected host has failed to respond'))\n",
      "Error fetching data for Beaches (1988): HTTPSConnectionPool(host='api.themoviedb.org', port=443): Max retries exceeded with url: /3/search/movie?api_key=8265bd1679663a7ea12ac168da84d2e8&query=Beaches%20(1988) (Caused by NewConnectionError('<urllib3.connection.HTTPSConnection object at 0x0000018A5FC186A0>: Failed to establish a new connection: [WinError 10060] A connection attempt failed because the connected party did not properly respond after a period of time, or established connection failed because connected host has failed to respond'))\n",
      "Error fetching data for Philadelphia (1993): HTTPSConnectionPool(host='api.themoviedb.org', port=443): Max retries exceeded with url: /3/search/movie?api_key=8265bd1679663a7ea12ac168da84d2e8&query=Philadelphia%20(1993) (Caused by NewConnectionError('<urllib3.connection.HTTPSConnection object at 0x0000018A5FA24D30>: Failed to establish a new connection: [WinError 10060] A connection attempt failed because the connected party did not properly respond after a period of time, or established connection failed because connected host has failed to respond'))\n",
      "Error fetching data for Thank You for Smoking (2006): HTTPSConnectionPool(host='api.themoviedb.org', port=443): Max retries exceeded with url: /3/search/movie?api_key=8265bd1679663a7ea12ac168da84d2e8&query=Thank%20You%20for%20Smoking%20(2006) (Caused by NewConnectionError('<urllib3.connection.HTTPSConnection object at 0x0000018A5FD19730>: Failed to establish a new connection: [WinError 10060] A connection attempt failed because the connected party did not properly respond after a period of time, or established connection failed because connected host has failed to respond'))\n",
      "Error fetching data for Frankenstein (1931): HTTPSConnectionPool(host='api.themoviedb.org', port=443): Max retries exceeded with url: /3/search/movie?api_key=8265bd1679663a7ea12ac168da84d2e8&query=Frankenstein%20(1931) (Caused by NewConnectionError('<urllib3.connection.HTTPSConnection object at 0x0000018A5FD254F0>: Failed to establish a new connection: [WinError 10060] A connection attempt failed because the connected party did not properly respond after a period of time, or established connection failed because connected host has failed to respond'))\n",
      "Error fetching data for Wedding Crashers (2005): HTTPSConnectionPool(host='api.themoviedb.org', port=443): Max retries exceeded with url: /3/search/movie?api_key=8265bd1679663a7ea12ac168da84d2e8&query=Wedding%20Crashers%20(2005) (Caused by NewConnectionError('<urllib3.connection.HTTPSConnection object at 0x0000018A5FD25DF0>: Failed to establish a new connection: [WinError 10060] A connection attempt failed because the connected party did not properly respond after a period of time, or established connection failed because connected host has failed to respond'))\n",
      "Error fetching data for Titanic (1997): HTTPSConnectionPool(host='api.themoviedb.org', port=443): Max retries exceeded with url: /3/search/movie?api_key=8265bd1679663a7ea12ac168da84d2e8&query=Titanic%20(1997) (Caused by NewConnectionError('<urllib3.connection.HTTPSConnection object at 0x0000018A5FD2CD60>: Failed to establish a new connection: [WinError 10060] A connection attempt failed because the connected party did not properly respond after a period of time, or established connection failed because connected host has failed to respond'))\n",
      "Error fetching data for Mean Girls (2004): HTTPSConnectionPool(host='api.themoviedb.org', port=443): Max retries exceeded with url: /3/search/movie?api_key=8265bd1679663a7ea12ac168da84d2e8&query=Mean%20Girls%20(2004) (Caused by NewConnectionError('<urllib3.connection.HTTPSConnection object at 0x0000018A5FD2C280>: Failed to establish a new connection: [WinError 10060] A connection attempt failed because the connected party did not properly respond after a period of time, or established connection failed because connected host has failed to respond'))\n",
      "Error fetching data for Karate Kid, The (1984): HTTPSConnectionPool(host='api.themoviedb.org', port=443): Max retries exceeded with url: /3/search/movie?api_key=8265bd1679663a7ea12ac168da84d2e8&query=Karate%20Kid,%20The%20(1984) (Caused by NewConnectionError('<urllib3.connection.HTTPSConnection object at 0x0000018A5FD34610>: Failed to establish a new connection: [WinError 10060] A connection attempt failed because the connected party did not properly respond after a period of time, or established connection failed because connected host has failed to respond'))\n",
      "Error fetching data for Iron Man (2008): HTTPSConnectionPool(host='api.themoviedb.org', port=443): Max retries exceeded with url: /3/search/movie?api_key=8265bd1679663a7ea12ac168da84d2e8&query=Iron%20Man%20(2008) (Caused by NewConnectionError('<urllib3.connection.HTTPSConnection object at 0x0000018A5FD25DF0>: Failed to establish a new connection: [WinError 10060] A connection attempt failed because the connected party did not properly respond after a period of time, or established connection failed because connected host has failed to respond'))\n",
      "Error fetching data for Iron Man 3 (2013): HTTPSConnectionPool(host='api.themoviedb.org', port=443): Max retries exceeded with url: /3/search/movie?api_key=8265bd1679663a7ea12ac168da84d2e8&query=Iron%20Man%203%20(2013) (Caused by NewConnectionError('<urllib3.connection.HTTPSConnection object at 0x0000018A5FD19FA0>: Failed to establish a new connection: [WinError 10060] A connection attempt failed because the connected party did not properly respond after a period of time, or established connection failed because connected host has failed to respond'))\n",
      "Error fetching data for Virgin Suicides, The (1999): HTTPSConnectionPool(host='api.themoviedb.org', port=443): Max retries exceeded with url: /3/search/movie?api_key=8265bd1679663a7ea12ac168da84d2e8&query=Virgin%20Suicides,%20The%20(1999) (Caused by NewConnectionError('<urllib3.connection.HTTPSConnection object at 0x0000018A5FD192E0>: Failed to establish a new connection: [WinError 10060] A connection attempt failed because the connected party did not properly respond after a period of time, or established connection failed because connected host has failed to respond'))\n",
      "Error fetching data for Stir Crazy (1980): HTTPSConnectionPool(host='api.themoviedb.org', port=443): Max retries exceeded with url: /3/search/movie?api_key=8265bd1679663a7ea12ac168da84d2e8&query=Stir%20Crazy%20(1980) (Caused by NewConnectionError('<urllib3.connection.HTTPSConnection object at 0x0000018A5FA24E50>: Failed to establish a new connection: [WinError 10060] A connection attempt failed because the connected party did not properly respond after a period of time, or established connection failed because connected host has failed to respond'))\n",
      "Error fetching data for Romancing the Stone (1984): HTTPSConnectionPool(host='api.themoviedb.org', port=443): Max retries exceeded with url: /3/search/movie?api_key=8265bd1679663a7ea12ac168da84d2e8&query=Romancing%20the%20Stone%20(1984) (Caused by NewConnectionError('<urllib3.connection.HTTPSConnection object at 0x0000018A5FD2C310>: Failed to establish a new connection: [WinError 10060] A connection attempt failed because the connected party did not properly respond after a period of time, or established connection failed because connected host has failed to respond'))\n",
      "Error fetching data for Spider-Man 2 (2004): HTTPSConnectionPool(host='api.themoviedb.org', port=443): Max retries exceeded with url: /3/search/movie?api_key=8265bd1679663a7ea12ac168da84d2e8&query=Spider-Man%202%20(2004) (Caused by NewConnectionError('<urllib3.connection.HTTPSConnection object at 0x0000018A5FD2CFA0>: Failed to establish a new connection: [WinError 10060] A connection attempt failed because the connected party did not properly respond after a period of time, or established connection failed because connected host has failed to respond'))\n"
     ]
    },
    {
     "name": "stdout",
     "output_type": "stream",
     "text": [
      "Error fetching data for Wizard of Oz, The (1939): HTTPSConnectionPool(host='api.themoviedb.org', port=443): Max retries exceeded with url: /3/search/movie?api_key=8265bd1679663a7ea12ac168da84d2e8&query=Wizard%20of%20Oz,%20The%20(1939) (Caused by NewConnectionError('<urllib3.connection.HTTPSConnection object at 0x0000018A5FD343D0>: Failed to establish a new connection: [WinError 10060] A connection attempt failed because the connected party did not properly respond after a period of time, or established connection failed because connected host has failed to respond'))\n",
      "Error fetching data for I Still Know What You Did Last Summer (1998): HTTPSConnectionPool(host='api.themoviedb.org', port=443): Max retries exceeded with url: /3/search/movie?api_key=8265bd1679663a7ea12ac168da84d2e8&query=I%20Still%20Know%20What%20You%20Did%20Last%20Summer%20(1998) (Caused by NewConnectionError('<urllib3.connection.HTTPSConnection object at 0x0000018A5FA24AC0>: Failed to establish a new connection: [WinError 10060] A connection attempt failed because the connected party did not properly respond after a period of time, or established connection failed because connected host has failed to respond'))\n",
      "Error fetching data for 8 Mile (2002): HTTPSConnectionPool(host='api.themoviedb.org', port=443): Max retries exceeded with url: /3/search/movie?api_key=8265bd1679663a7ea12ac168da84d2e8&query=8%20Mile%20(2002) (Caused by NewConnectionError('<urllib3.connection.HTTPSConnection object at 0x0000018A5FD197C0>: Failed to establish a new connection: [WinError 10060] A connection attempt failed because the connected party did not properly respond after a period of time, or established connection failed because connected host has failed to respond'))\n",
      "Error fetching data for Ghostbusters (a.k.a. Ghost Busters) (1984): HTTPSConnectionPool(host='api.themoviedb.org', port=443): Max retries exceeded with url: /3/search/movie?api_key=8265bd1679663a7ea12ac168da84d2e8&query=Ghostbusters%20(a.k.a.%20Ghost%20Busters)%20(1984) (Caused by NewConnectionError('<urllib3.connection.HTTPSConnection object at 0x0000018A5FD2C760>: Failed to establish a new connection: [WinError 10060] A connection attempt failed because the connected party did not properly respond after a period of time, or established connection failed because connected host has failed to respond'))\n",
      "Error fetching data for Harry Potter and the Order of the Phoenix (2007): HTTPSConnectionPool(host='api.themoviedb.org', port=443): Max retries exceeded with url: /3/search/movie?api_key=8265bd1679663a7ea12ac168da84d2e8&query=Harry%20Potter%20and%20the%20Order%20of%20the%20Phoenix%20(2007) (Caused by NewConnectionError('<urllib3.connection.HTTPSConnection object at 0x0000018A5FD2C130>: Failed to establish a new connection: [WinError 10060] A connection attempt failed because the connected party did not properly respond after a period of time, or established connection failed because connected host has failed to respond'))\n",
      "Error fetching data for Grumpy Old Men (1993): HTTPSConnectionPool(host='api.themoviedb.org', port=443): Max retries exceeded with url: /3/search/movie?api_key=8265bd1679663a7ea12ac168da84d2e8&query=Grumpy%20Old%20Men%20(1993) (Caused by NewConnectionError('<urllib3.connection.HTTPSConnection object at 0x0000018A5FD25460>: Failed to establish a new connection: [WinError 10060] A connection attempt failed because the connected party did not properly respond after a period of time, or established connection failed because connected host has failed to respond'))\n",
      "Error fetching data for Graduate, The (1967): HTTPSConnectionPool(host='api.themoviedb.org', port=443): Max retries exceeded with url: /3/search/movie?api_key=8265bd1679663a7ea12ac168da84d2e8&query=Graduate,%20The%20(1967) (Caused by NewConnectionError('<urllib3.connection.HTTPSConnection object at 0x0000018A5FD25A00>: Failed to establish a new connection: [WinError 10060] A connection attempt failed because the connected party did not properly respond after a period of time, or established connection failed because connected host has failed to respond'))\n",
      "Error fetching data for Truman Show, The (1998): HTTPSConnectionPool(host='api.themoviedb.org', port=443): Max retries exceeded with url: /3/search/movie?api_key=8265bd1679663a7ea12ac168da84d2e8&query=Truman%20Show,%20The%20(1998) (Caused by NewConnectionError('<urllib3.connection.HTTPSConnection object at 0x0000018A5FD34490>: Failed to establish a new connection: [WinError 10060] A connection attempt failed because the connected party did not properly respond after a period of time, or established connection failed because connected host has failed to respond'))\n",
      "Error fetching data for Mr. Holland's Opus (1995): HTTPSConnectionPool(host='api.themoviedb.org', port=443): Max retries exceeded with url: /3/search/movie?api_key=8265bd1679663a7ea12ac168da84d2e8&query=Mr.%20Holland's%20Opus%20(1995) (Caused by NewConnectionError('<urllib3.connection.HTTPSConnection object at 0x0000018A5FD25910>: Failed to establish a new connection: [WinError 10060] A connection attempt failed because the connected party did not properly respond after a period of time, or established connection failed because connected host has failed to respond'))\n",
      "Error fetching data for Friday the 13th Part VI: Jason Lives (1986): HTTPSConnectionPool(host='api.themoviedb.org', port=443): Max retries exceeded with url: /3/search/movie?api_key=8265bd1679663a7ea12ac168da84d2e8&query=Friday%20the%2013th%20Part%20VI:%20Jason%20Lives%20(1986) (Caused by NewConnectionError('<urllib3.connection.HTTPSConnection object at 0x0000018A5FD19700>: Failed to establish a new connection: [WinError 10060] A connection attempt failed because the connected party did not properly respond after a period of time, or established connection failed because connected host has failed to respond'))\n",
      "Error fetching data for Captain America: The Winter Soldier (2014): HTTPSConnectionPool(host='api.themoviedb.org', port=443): Max retries exceeded with url: /3/search/movie?api_key=8265bd1679663a7ea12ac168da84d2e8&query=Captain%20America:%20The%20Winter%20Soldier%20(2014) (Caused by NewConnectionError('<urllib3.connection.HTTPSConnection object at 0x0000018A5FA249A0>: Failed to establish a new connection: [WinError 10060] A connection attempt failed because the connected party did not properly respond after a period of time, or established connection failed because connected host has failed to respond'))\n",
      "Error fetching data for Harry Potter and the Prisoner of Azkaban (2004): HTTPSConnectionPool(host='api.themoviedb.org', port=443): Max retries exceeded with url: /3/search/movie?api_key=8265bd1679663a7ea12ac168da84d2e8&query=Harry%20Potter%20and%20the%20Prisoner%20of%20Azkaban%20(2004) (Caused by NewConnectionError('<urllib3.connection.HTTPSConnection object at 0x0000018A5FC0C1F0>: Failed to establish a new connection: [WinError 10060] A connection attempt failed because the connected party did not properly respond after a period of time, or established connection failed because connected host has failed to respond'))\n",
      "Error fetching data for Last Samurai, The (2003): HTTPSConnectionPool(host='api.themoviedb.org', port=443): Max retries exceeded with url: /3/search/movie?api_key=8265bd1679663a7ea12ac168da84d2e8&query=Last%20Samurai,%20The%20(2003) (Caused by NewConnectionError('<urllib3.connection.HTTPSConnection object at 0x0000018A5FD34190>: Failed to establish a new connection: [WinError 10060] A connection attempt failed because the connected party did not properly respond after a period of time, or established connection failed because connected host has failed to respond'))\n",
      "Error fetching data for Sudden Death (1995): HTTPSConnectionPool(host='api.themoviedb.org', port=443): Max retries exceeded with url: /3/search/movie?api_key=8265bd1679663a7ea12ac168da84d2e8&query=Sudden%20Death%20(1995) (Caused by NewConnectionError('<urllib3.connection.HTTPSConnection object at 0x0000018A5FD34E80>: Failed to establish a new connection: [WinError 10060] A connection attempt failed because the connected party did not properly respond after a period of time, or established connection failed because connected host has failed to respond'))\n"
     ]
    },
    {
     "name": "stdout",
     "output_type": "stream",
     "text": [
      "Error fetching data for ParaNorman (2012): HTTPSConnectionPool(host='api.themoviedb.org', port=443): Max retries exceeded with url: /3/search/movie?api_key=8265bd1679663a7ea12ac168da84d2e8&query=ParaNorman%20(2012) (Caused by NewConnectionError('<urllib3.connection.HTTPSConnection object at 0x0000018A5FD3E670>: Failed to establish a new connection: [WinError 10060] A connection attempt failed because the connected party did not properly respond after a period of time, or established connection failed because connected host has failed to respond'))\n",
      "Error fetching data for George Carlin: Jammin' in New York (1992): HTTPSConnectionPool(host='api.themoviedb.org', port=443): Max retries exceeded with url: /3/search/movie?api_key=8265bd1679663a7ea12ac168da84d2e8&query=George%20Carlin:%20Jammin'%20in%20New%20York%20(1992) (Caused by NewConnectionError('<urllib3.connection.HTTPSConnection object at 0x0000018A5FA24AF0>: Failed to establish a new connection: [WinError 10060] A connection attempt failed because the connected party did not properly respond after a period of time, or established connection failed because connected host has failed to respond'))\n",
      "Error fetching data for Wild Wild West (1999): HTTPSConnectionPool(host='api.themoviedb.org', port=443): Max retries exceeded with url: /3/search/movie?api_key=8265bd1679663a7ea12ac168da84d2e8&query=Wild%20Wild%20West%20(1999) (Caused by NewConnectionError('<urllib3.connection.HTTPSConnection object at 0x0000018A5FD19EE0>: Failed to establish a new connection: [WinError 10060] A connection attempt failed because the connected party did not properly respond after a period of time, or established connection failed because connected host has failed to respond'))\n",
      "Error fetching data for X-Men (2000): HTTPSConnectionPool(host='api.themoviedb.org', port=443): Max retries exceeded with url: /3/search/movie?api_key=8265bd1679663a7ea12ac168da84d2e8&query=X-Men%20(2000) (Caused by NewConnectionError('<urllib3.connection.HTTPSConnection object at 0x0000018A5FD19D30>: Failed to establish a new connection: [WinError 10060] A connection attempt failed because the connected party did not properly respond after a period of time, or established connection failed because connected host has failed to respond'))\n",
      "Error fetching data for The Imitation Game (2014): HTTPSConnectionPool(host='api.themoviedb.org', port=443): Max retries exceeded with url: /3/search/movie?api_key=8265bd1679663a7ea12ac168da84d2e8&query=The%20Imitation%20Game%20(2014) (Caused by NewConnectionError('<urllib3.connection.HTTPSConnection object at 0x0000018A5FD25EB0>: Failed to establish a new connection: [WinError 10060] A connection attempt failed because the connected party did not properly respond after a period of time, or established connection failed because connected host has failed to respond'))\n",
      "Error fetching data for Shawshank Redemption, The (1994): HTTPSConnectionPool(host='api.themoviedb.org', port=443): Max retries exceeded with url: /3/search/movie?api_key=8265bd1679663a7ea12ac168da84d2e8&query=Shawshank%20Redemption,%20The%20(1994) (Caused by NewConnectionError('<urllib3.connection.HTTPSConnection object at 0x0000018A5FD25F40>: Failed to establish a new connection: [WinError 10060] A connection attempt failed because the connected party did not properly respond after a period of time, or established connection failed because connected host has failed to respond'))\n",
      "Error fetching data for Muppet Movie, The (1979): HTTPSConnectionPool(host='api.themoviedb.org', port=443): Max retries exceeded with url: /3/search/movie?api_key=8265bd1679663a7ea12ac168da84d2e8&query=Muppet%20Movie,%20The%20(1979) (Caused by NewConnectionError('<urllib3.connection.HTTPSConnection object at 0x0000018A5FD347C0>: Failed to establish a new connection: [WinError 10060] A connection attempt failed because the connected party did not properly respond after a period of time, or established connection failed because connected host has failed to respond'))\n",
      "Error fetching data for Harold and Maude (1971): HTTPSConnectionPool(host='api.themoviedb.org', port=443): Max retries exceeded with url: /3/search/movie?api_key=8265bd1679663a7ea12ac168da84d2e8&query=Harold%20and%20Maude%20(1971) (Caused by NewConnectionError('<urllib3.connection.HTTPSConnection object at 0x0000018A5FD3E7C0>: Failed to establish a new connection: [WinError 10060] A connection attempt failed because the connected party did not properly respond after a period of time, or established connection failed because connected host has failed to respond'))\n",
      "Error fetching data for Rush Hour 2 (2001): HTTPSConnectionPool(host='api.themoviedb.org', port=443): Max retries exceeded with url: /3/search/movie?api_key=8265bd1679663a7ea12ac168da84d2e8&query=Rush%20Hour%202%20(2001) (Caused by NewConnectionError('<urllib3.connection.HTTPSConnection object at 0x0000018A5FD25FA0>: Failed to establish a new connection: [WinError 10060] A connection attempt failed because the connected party did not properly respond after a period of time, or established connection failed because connected host has failed to respond'))\n",
      "Error fetching data for 10 Things I Hate About You (1999): HTTPSConnectionPool(host='api.themoviedb.org', port=443): Max retries exceeded with url: /3/search/movie?api_key=8265bd1679663a7ea12ac168da84d2e8&query=10%20Things%20I%20Hate%20About%20You%20(1999) (Caused by NewConnectionError('<urllib3.connection.HTTPSConnection object at 0x0000018A5FD25F10>: Failed to establish a new connection: [WinError 10060] A connection attempt failed because the connected party did not properly respond after a period of time, or established connection failed because connected host has failed to respond'))\n",
      "Error fetching data for Toy Story (1995): HTTPSConnectionPool(host='api.themoviedb.org', port=443): Max retries exceeded with url: /3/search/movie?api_key=8265bd1679663a7ea12ac168da84d2e8&query=Toy%20Story%20(1995) (Caused by NewConnectionError('<urllib3.connection.HTTPSConnection object at 0x0000018A5FD19F10>: Failed to establish a new connection: [WinError 10060] A connection attempt failed because the connected party did not properly respond after a period of time, or established connection failed because connected host has failed to respond'))\n",
      "Error fetching data for Transporter, The (2002): HTTPSConnectionPool(host='api.themoviedb.org', port=443): Max retries exceeded with url: /3/search/movie?api_key=8265bd1679663a7ea12ac168da84d2e8&query=Transporter,%20The%20(2002) (Caused by NewConnectionError('<urllib3.connection.HTTPSConnection object at 0x0000018A5FD19940>: Failed to establish a new connection: [WinError 10060] A connection attempt failed because the connected party did not properly respond after a period of time, or established connection failed because connected host has failed to respond'))\n",
      "Error fetching data for Terminator, The (1984): HTTPSConnectionPool(host='api.themoviedb.org', port=443): Max retries exceeded with url: /3/search/movie?api_key=8265bd1679663a7ea12ac168da84d2e8&query=Terminator,%20The%20(1984) (Caused by NewConnectionError('<urllib3.connection.HTTPSConnection object at 0x0000018A5FA24A60>: Failed to establish a new connection: [WinError 10060] A connection attempt failed because the connected party did not properly respond after a period of time, or established connection failed because connected host has failed to respond'))\n",
      "Error fetching data for Take the Money and Run (1969): HTTPSConnectionPool(host='api.themoviedb.org', port=443): Max retries exceeded with url: /3/search/movie?api_key=8265bd1679663a7ea12ac168da84d2e8&query=Take%20the%20Money%20and%20Run%20(1969) (Caused by NewConnectionError('<urllib3.connection.HTTPSConnection object at 0x0000018A5FC27DF0>: Failed to establish a new connection: [WinError 10060] A connection attempt failed because the connected party did not properly respond after a period of time, or established connection failed because connected host has failed to respond'))\n",
      "Error fetching data for Avatar (2009): HTTPSConnectionPool(host='api.themoviedb.org', port=443): Max retries exceeded with url: /3/search/movie?api_key=8265bd1679663a7ea12ac168da84d2e8&query=Avatar%20(2009) (Caused by NewConnectionError('<urllib3.connection.HTTPSConnection object at 0x0000018A5FD3EE50>: Failed to establish a new connection: [WinError 10060] A connection attempt failed because the connected party did not properly respond after a period of time, or established connection failed because connected host has failed to respond'))\n"
     ]
    },
    {
     "name": "stdout",
     "output_type": "stream",
     "text": [
      "Error fetching data for Star Wars: Episode II - Attack of the Clones (2002): HTTPSConnectionPool(host='api.themoviedb.org', port=443): Max retries exceeded with url: /3/search/movie?api_key=8265bd1679663a7ea12ac168da84d2e8&query=Star%20Wars:%20Episode%20II%20-%20Attack%20of%20the%20Clones%20(2002) (Caused by NewConnectionError('<urllib3.connection.HTTPSConnection object at 0x0000018A5FA24F10>: Failed to establish a new connection: [WinError 10060] A connection attempt failed because the connected party did not properly respond after a period of time, or established connection failed because connected host has failed to respond'))\n",
      "Error fetching data for Great Escape, The (1963): HTTPSConnectionPool(host='api.themoviedb.org', port=443): Max retries exceeded with url: /3/search/movie?api_key=8265bd1679663a7ea12ac168da84d2e8&query=Great%20Escape,%20The%20(1963) (Caused by NewConnectionError('<urllib3.connection.HTTPSConnection object at 0x0000018A5FD197C0>: Failed to establish a new connection: [WinError 10060] A connection attempt failed because the connected party did not properly respond after a period of time, or established connection failed because connected host has failed to respond'))\n",
      "Error fetching data for Phantom of Liberty, The (Fantôme de la liberté, Le) (1974): HTTPSConnectionPool(host='api.themoviedb.org', port=443): Max retries exceeded with url: /3/search/movie?api_key=8265bd1679663a7ea12ac168da84d2e8&query=Phantom%20of%20Liberty,%20The%20(Fant%C3%B4me%20de%20la%20libert%C3%A9,%20Le)%20(1974) (Caused by NewConnectionError('<urllib3.connection.HTTPSConnection object at 0x0000018A5FD25A00>: Failed to establish a new connection: [WinError 10060] A connection attempt failed because the connected party did not properly respond after a period of time, or established connection failed because connected host has failed to respond'))\n",
      "Error fetching data for Saving Private Ryan (1998): HTTPSConnectionPool(host='api.themoviedb.org', port=443): Max retries exceeded with url: /3/search/movie?api_key=8265bd1679663a7ea12ac168da84d2e8&query=Saving%20Private%20Ryan%20(1998) (Caused by NewConnectionError('<urllib3.connection.HTTPSConnection object at 0x0000018A5FD250A0>: Failed to establish a new connection: [WinError 10060] A connection attempt failed because the connected party did not properly respond after a period of time, or established connection failed because connected host has failed to respond'))\n",
      "Error fetching data for Muriel's Wedding (1994): HTTPSConnectionPool(host='api.themoviedb.org', port=443): Max retries exceeded with url: /3/search/movie?api_key=8265bd1679663a7ea12ac168da84d2e8&query=Muriel's%20Wedding%20(1994) (Caused by NewConnectionError('<urllib3.connection.HTTPSConnection object at 0x0000018A5FD34130>: Failed to establish a new connection: [WinError 10060] A connection attempt failed because the connected party did not properly respond after a period of time, or established connection failed because connected host has failed to respond'))\n",
      "Error fetching data for Terminator Genisys (2015): HTTPSConnectionPool(host='api.themoviedb.org', port=443): Max retries exceeded with url: /3/search/movie?api_key=8265bd1679663a7ea12ac168da84d2e8&query=Terminator%20Genisys%20(2015) (Caused by NewConnectionError('<urllib3.connection.HTTPSConnection object at 0x0000018A5FD34340>: Failed to establish a new connection: [WinError 10060] A connection attempt failed because the connected party did not properly respond after a period of time, or established connection failed because connected host has failed to respond'))\n",
      "Error fetching data for Rumble Fish (1983): HTTPSConnectionPool(host='api.themoviedb.org', port=443): Max retries exceeded with url: /3/search/movie?api_key=8265bd1679663a7ea12ac168da84d2e8&query=Rumble%20Fish%20(1983) (Caused by NewConnectionError('<urllib3.connection.HTTPSConnection object at 0x0000018A5FD3EEE0>: Failed to establish a new connection: [WinError 10060] A connection attempt failed because the connected party did not properly respond after a period of time, or established connection failed because connected host has failed to respond'))\n",
      "Error fetching data for GoldenEye (1995): HTTPSConnectionPool(host='api.themoviedb.org', port=443): Max retries exceeded with url: /3/search/movie?api_key=8265bd1679663a7ea12ac168da84d2e8&query=GoldenEye%20(1995) (Caused by NewConnectionError('<urllib3.connection.HTTPSConnection object at 0x0000018A5FD255B0>: Failed to establish a new connection: [WinError 10060] A connection attempt failed because the connected party did not properly respond after a period of time, or established connection failed because connected host has failed to respond'))\n",
      "Error fetching data for Imaginary Crimes (1994): HTTPSConnectionPool(host='api.themoviedb.org', port=443): Max retries exceeded with url: /3/search/movie?api_key=8265bd1679663a7ea12ac168da84d2e8&query=Imaginary%20Crimes%20(1994) (Caused by NewConnectionError('<urllib3.connection.HTTPSConnection object at 0x0000018A5FAE50D0>: Failed to establish a new connection: [WinError 10060] A connection attempt failed because the connected party did not properly respond after a period of time, or established connection failed because connected host has failed to respond'))\n",
      "Error fetching data for Apocalypse Now (1979): HTTPSConnectionPool(host='api.themoviedb.org', port=443): Max retries exceeded with url: /3/search/movie?api_key=8265bd1679663a7ea12ac168da84d2e8&query=Apocalypse%20Now%20(1979) (Caused by NewConnectionError('<urllib3.connection.HTTPSConnection object at 0x0000018A5FC0C130>: Failed to establish a new connection: [WinError 10060] A connection attempt failed because the connected party did not properly respond after a period of time, or established connection failed because connected host has failed to respond'))\n",
      "Error fetching data for Spider-Man 3 (2007): HTTPSConnectionPool(host='api.themoviedb.org', port=443): Max retries exceeded with url: /3/search/movie?api_key=8265bd1679663a7ea12ac168da84d2e8&query=Spider-Man%203%20(2007) (Caused by NewConnectionError('<urllib3.connection.HTTPSConnection object at 0x0000018A5FD3ED00>: Failed to establish a new connection: [WinError 10060] A connection attempt failed because the connected party did not properly respond after a period of time, or established connection failed because connected host has failed to respond'))\n",
      "Error fetching data for Hard Day's Night, A (1964): HTTPSConnectionPool(host='api.themoviedb.org', port=443): Max retries exceeded with url: /3/search/movie?api_key=8265bd1679663a7ea12ac168da84d2e8&query=Hard%20Day's%20Night,%20A%20(1964) (Caused by NewConnectionError('<urllib3.connection.HTTPSConnection object at 0x0000018A5FD3E0A0>: Failed to establish a new connection: [WinError 10060] A connection attempt failed because the connected party did not properly respond after a period of time, or established connection failed because connected host has failed to respond'))\n",
      "Error fetching data for (500) Days of Summer (2009): HTTPSConnectionPool(host='api.themoviedb.org', port=443): Max retries exceeded with url: /3/search/movie?api_key=8265bd1679663a7ea12ac168da84d2e8&query=(500)%20Days%20of%20Summer%20(2009) (Caused by NewConnectionError('<urllib3.connection.HTTPSConnection object at 0x0000018A5FD34A00>: Failed to establish a new connection: [WinError 10060] A connection attempt failed because the connected party did not properly respond after a period of time, or established connection failed because connected host has failed to respond'))\n",
      "Error fetching data for Slumdog Millionaire (2008): HTTPSConnectionPool(host='api.themoviedb.org', port=443): Max retries exceeded with url: /3/search/movie?api_key=8265bd1679663a7ea12ac168da84d2e8&query=Slumdog%20Millionaire%20(2008) (Caused by NewConnectionError('<urllib3.connection.HTTPSConnection object at 0x0000018A5FD19B80>: Failed to establish a new connection: [WinError 10060] A connection attempt failed because the connected party did not properly respond after a period of time, or established connection failed because connected host has failed to respond'))\n",
      "Error fetching data for Godfather, The (1972): HTTPSConnectionPool(host='api.themoviedb.org', port=443): Max retries exceeded with url: /3/search/movie?api_key=8265bd1679663a7ea12ac168da84d2e8&query=Godfather,%20The%20(1972) (Caused by NewConnectionError('<urllib3.connection.HTTPSConnection object at 0x0000018A5FA247C0>: Failed to establish a new connection: [WinError 10060] A connection attempt failed because the connected party did not properly respond after a period of time, or established connection failed because connected host has failed to respond'))\n"
     ]
    },
    {
     "name": "stdout",
     "output_type": "stream",
     "text": [
      "Error fetching data for Fugitive, The (1993): HTTPSConnectionPool(host='api.themoviedb.org', port=443): Max retries exceeded with url: /3/search/movie?api_key=8265bd1679663a7ea12ac168da84d2e8&query=Fugitive,%20The%20(1993) (Caused by NewConnectionError('<urllib3.connection.HTTPSConnection object at 0x0000018A5FD25580>: Failed to establish a new connection: [WinError 10060] A connection attempt failed because the connected party did not properly respond after a period of time, or established connection failed because connected host has failed to respond'))\n",
      "Error fetching data for Alice in Wonderland (1951): HTTPSConnectionPool(host='api.themoviedb.org', port=443): Max retries exceeded with url: /3/search/movie?api_key=8265bd1679663a7ea12ac168da84d2e8&query=Alice%20in%20Wonderland%20(1951) (Caused by NewConnectionError('<urllib3.connection.HTTPSConnection object at 0x0000018A5FD25970>: Failed to establish a new connection: [WinError 10060] A connection attempt failed because the connected party did not properly respond after a period of time, or established connection failed because connected host has failed to respond'))\n",
      "Error fetching data for Godfather: Part II, The (1974): HTTPSConnectionPool(host='api.themoviedb.org', port=443): Max retries exceeded with url: /3/search/movie?api_key=8265bd1679663a7ea12ac168da84d2e8&query=Godfather:%20Part%20II,%20The%20(1974) (Caused by NewConnectionError('<urllib3.connection.HTTPSConnection object at 0x0000018A5FD34E50>: Failed to establish a new connection: [WinError 10060] A connection attempt failed because the connected party did not properly respond after a period of time, or established connection failed because connected host has failed to respond'))\n",
      "Error fetching data for Hotel Rwanda (2004): HTTPSConnectionPool(host='api.themoviedb.org', port=443): Max retries exceeded with url: /3/search/movie?api_key=8265bd1679663a7ea12ac168da84d2e8&query=Hotel%20Rwanda%20(2004) (Caused by NewConnectionError('<urllib3.connection.HTTPSConnection object at 0x0000018A5FD19E80>: Failed to establish a new connection: [WinError 10060] A connection attempt failed because the connected party did not properly respond after a period of time, or established connection failed because connected host has failed to respond'))\n",
      "Error fetching data for Sound of Music, The (1965): HTTPSConnectionPool(host='api.themoviedb.org', port=443): Max retries exceeded with url: /3/search/movie?api_key=8265bd1679663a7ea12ac168da84d2e8&query=Sound%20of%20Music,%20The%20(1965) (Caused by NewConnectionError('<urllib3.connection.HTTPSConnection object at 0x0000018A5FD19310>: Failed to establish a new connection: [WinError 10060] A connection attempt failed because the connected party did not properly respond after a period of time, or established connection failed because connected host has failed to respond'))\n",
      "Error fetching data for The Count of Monte Cristo (2002): HTTPSConnectionPool(host='api.themoviedb.org', port=443): Max retries exceeded with url: /3/search/movie?api_key=8265bd1679663a7ea12ac168da84d2e8&query=The%20Count%20of%20Monte%20Cristo%20(2002) (Caused by NewConnectionError('<urllib3.connection.HTTPSConnection object at 0x0000018A5FC18760>: Failed to establish a new connection: [WinError 10060] A connection attempt failed because the connected party did not properly respond after a period of time, or established connection failed because connected host has failed to respond'))\n",
      "Error fetching data for Wonder Woman (2017): HTTPSConnectionPool(host='api.themoviedb.org', port=443): Max retries exceeded with url: /3/search/movie?api_key=8265bd1679663a7ea12ac168da84d2e8&query=Wonder%20Woman%20(2017) (Caused by NewConnectionError('<urllib3.connection.HTTPSConnection object at 0x0000018A5FD25D00>: Failed to establish a new connection: [WinError 10060] A connection attempt failed because the connected party did not properly respond after a period of time, or established connection failed because connected host has failed to respond'))\n",
      "Error fetching data for Much Ado About Nothing (1993): HTTPSConnectionPool(host='api.themoviedb.org', port=443): Max retries exceeded with url: /3/search/movie?api_key=8265bd1679663a7ea12ac168da84d2e8&query=Much%20Ado%20About%20Nothing%20(1993) (Caused by NewConnectionError('<urllib3.connection.HTTPSConnection object at 0x0000018A5FD25490>: Failed to establish a new connection: [WinError 10060] A connection attempt failed because the connected party did not properly respond after a period of time, or established connection failed because connected host has failed to respond'))\n",
      "Error fetching data for There's Something About Mary (1998): HTTPSConnectionPool(host='api.themoviedb.org', port=443): Max retries exceeded with url: /3/search/movie?api_key=8265bd1679663a7ea12ac168da84d2e8&query=There's%20Something%20About%20Mary%20(1998) (Caused by NewConnectionError('<urllib3.connection.HTTPSConnection object at 0x0000018A5FA24B80>: Failed to establish a new connection: [WinError 10060] A connection attempt failed because the connected party did not properly respond after a period of time, or established connection failed because connected host has failed to respond'))\n",
      "Error fetching data for Interstellar (2014): HTTPSConnectionPool(host='api.themoviedb.org', port=443): Max retries exceeded with url: /3/search/movie?api_key=8265bd1679663a7ea12ac168da84d2e8&query=Interstellar%20(2014) (Caused by NewConnectionError('<urllib3.connection.HTTPSConnection object at 0x0000018A5FD19520>: Failed to establish a new connection: [WinError 10060] A connection attempt failed because the connected party did not properly respond after a period of time, or established connection failed because connected host has failed to respond'))\n",
      "Error fetching data for Music of the Heart (1999): HTTPSConnectionPool(host='api.themoviedb.org', port=443): Max retries exceeded with url: /3/search/movie?api_key=8265bd1679663a7ea12ac168da84d2e8&query=Music%20of%20the%20Heart%20(1999) (Caused by NewConnectionError('<urllib3.connection.HTTPSConnection object at 0x0000018A5FD19B50>: Failed to establish a new connection: [WinError 10060] A connection attempt failed because the connected party did not properly respond after a period of time, or established connection failed because connected host has failed to respond'))\n",
      "Error fetching data for Harry Potter and the Deathly Hallows: Part 2 (2011): HTTPSConnectionPool(host='api.themoviedb.org', port=443): Max retries exceeded with url: /3/search/movie?api_key=8265bd1679663a7ea12ac168da84d2e8&query=Harry%20Potter%20and%20the%20Deathly%20Hallows:%20Part%202%20(2011) (Caused by NewConnectionError('<urllib3.connection.HTTPSConnection object at 0x0000018A5FD3D790>: Failed to establish a new connection: [WinError 10060] A connection attempt failed because the connected party did not properly respond after a period of time, or established connection failed because connected host has failed to respond'))\n",
      "Error fetching data for The Butterfly Effect (2004): HTTPSConnectionPool(host='api.themoviedb.org', port=443): Max retries exceeded with url: /3/search/movie?api_key=8265bd1679663a7ea12ac168da84d2e8&query=The%20Butterfly%20Effect%20(2004) (Caused by NewConnectionError('<urllib3.connection.HTTPSConnection object at 0x0000018A5FD3DF40>: Failed to establish a new connection: [WinError 10060] A connection attempt failed because the connected party did not properly respond after a period of time, or established connection failed because connected host has failed to respond'))\n",
      "Error fetching data for O Brother, Where Art Thou? (2000): HTTPSConnectionPool(host='api.themoviedb.org', port=443): Max retries exceeded with url: /3/search/movie?api_key=8265bd1679663a7ea12ac168da84d2e8&query=O%20Brother,%20Where%20Art%20Thou?%20(2000) (Caused by NewConnectionError('<urllib3.connection.HTTPSConnection object at 0x0000018A5FA24D60>: Failed to establish a new connection: [WinError 10060] A connection attempt failed because the connected party did not properly respond after a period of time, or established connection failed because connected host has failed to respond'))\n",
      "Error fetching data for Taxi Driver (1976): HTTPSConnectionPool(host='api.themoviedb.org', port=443): Max retries exceeded with url: /3/search/movie?api_key=8265bd1679663a7ea12ac168da84d2e8&query=Taxi%20Driver%20(1976) (Caused by NewConnectionError('<urllib3.connection.HTTPSConnection object at 0x0000018A5FD25370>: Failed to establish a new connection: [WinError 10060] A connection attempt failed because the connected party did not properly respond after a period of time, or established connection failed because connected host has failed to respond'))\n"
     ]
    },
    {
     "name": "stdout",
     "output_type": "stream",
     "text": [
      "Error fetching data for Bourne Identity, The (2002): HTTPSConnectionPool(host='api.themoviedb.org', port=443): Max retries exceeded with url: /3/search/movie?api_key=8265bd1679663a7ea12ac168da84d2e8&query=Bourne%20Identity,%20The%20(2002) (Caused by NewConnectionError('<urllib3.connection.HTTPSConnection object at 0x0000018A5FD25EE0>: Failed to establish a new connection: [WinError 10060] A connection attempt failed because the connected party did not properly respond after a period of time, or established connection failed because connected host has failed to respond'))\n",
      "Error fetching data for Ben-Hur (1959): HTTPSConnectionPool(host='api.themoviedb.org', port=443): Max retries exceeded with url: /3/search/movie?api_key=8265bd1679663a7ea12ac168da84d2e8&query=Ben-Hur%20(1959) (Caused by NewConnectionError('<urllib3.connection.HTTPSConnection object at 0x0000018A5FD192E0>: Failed to establish a new connection: [WinError 10060] A connection attempt failed because the connected party did not properly respond after a period of time, or established connection failed because connected host has failed to respond'))\n",
      "Error fetching data for Beauty and the Beast (1991): HTTPSConnectionPool(host='api.themoviedb.org', port=443): Max retries exceeded with url: /3/search/movie?api_key=8265bd1679663a7ea12ac168da84d2e8&query=Beauty%20and%20the%20Beast%20(1991) (Caused by NewConnectionError('<urllib3.connection.HTTPSConnection object at 0x0000018A5FD19AF0>: Failed to establish a new connection: [WinError 10060] A connection attempt failed because the connected party did not properly respond after a period of time, or established connection failed because connected host has failed to respond'))\n",
      "Error fetching data for Abyss, The (1989): HTTPSConnectionPool(host='api.themoviedb.org', port=443): Max retries exceeded with url: /3/search/movie?api_key=8265bd1679663a7ea12ac168da84d2e8&query=Abyss,%20The%20(1989) (Caused by NewConnectionError('<urllib3.connection.HTTPSConnection object at 0x0000018A5FC27E20>: Failed to establish a new connection: [WinError 10060] A connection attempt failed because the connected party did not properly respond after a period of time, or established connection failed because connected host has failed to respond'))\n",
      "Error fetching data for Twister (1996): HTTPSConnectionPool(host='api.themoviedb.org', port=443): Max retries exceeded with url: /3/search/movie?api_key=8265bd1679663a7ea12ac168da84d2e8&query=Twister%20(1996) (Caused by NewConnectionError('<urllib3.connection.HTTPSConnection object at 0x0000018A5FD3D8E0>: Failed to establish a new connection: [WinError 10060] A connection attempt failed because the connected party did not properly respond after a period of time, or established connection failed because connected host has failed to respond'))\n",
      "Error fetching data for Big Lebowski, The (1998): HTTPSConnectionPool(host='api.themoviedb.org', port=443): Max retries exceeded with url: /3/search/movie?api_key=8265bd1679663a7ea12ac168da84d2e8&query=Big%20Lebowski,%20The%20(1998) (Caused by NewConnectionError('<urllib3.connection.HTTPSConnection object at 0x0000018A5FC27DC0>: Failed to establish a new connection: [WinError 10060] A connection attempt failed because the connected party did not properly respond after a period of time, or established connection failed because connected host has failed to respond'))\n",
      "Error fetching data for Eternal Sunshine of the Spotless Mind (2004): HTTPSConnectionPool(host='api.themoviedb.org', port=443): Max retries exceeded with url: /3/search/movie?api_key=8265bd1679663a7ea12ac168da84d2e8&query=Eternal%20Sunshine%20of%20the%20Spotless%20Mind%20(2004) (Caused by NewConnectionError('<urllib3.connection.HTTPSConnection object at 0x0000018A5FD19A30>: Failed to establish a new connection: [WinError 10060] A connection attempt failed because the connected party did not properly respond after a period of time, or established connection failed because connected host has failed to respond'))\n"
     ]
    }
   ],
   "source": [
    "# Fetch MovieIDs for the titles in the DataFrame\n",
    "dx['MoviesID'] = dx['Titles'].apply(lambda x: get_movie_id(x, api_key))\n"
   ]
  },
  {
   "cell_type": "code",
   "execution_count": null,
   "id": "d8b0f129",
   "metadata": {},
   "outputs": [],
   "source": [
    "print(\"DataFrame with MovieIDs:\")\n",
    "print(dx)"
   ]
  },
  {
   "cell_type": "code",
   "execution_count": null,
   "id": "df63072a",
   "metadata": {},
   "outputs": [],
   "source": []
  }
 ],
 "metadata": {
  "kernelspec": {
   "display_name": "Python 3 (ipykernel)",
   "language": "python",
   "name": "python3"
  },
  "language_info": {
   "codemirror_mode": {
    "name": "ipython",
    "version": 3
   },
   "file_extension": ".py",
   "mimetype": "text/x-python",
   "name": "python",
   "nbconvert_exporter": "python",
   "pygments_lexer": "ipython3",
   "version": "3.9.13"
  }
 },
 "nbformat": 4,
 "nbformat_minor": 5
}
